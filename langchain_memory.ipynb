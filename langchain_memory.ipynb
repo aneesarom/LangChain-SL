{
 "cells": [
  {
   "cell_type": "code",
   "execution_count": 1,
   "id": "1f38552c",
   "metadata": {},
   "outputs": [
    {
     "data": {
      "text/plain": [
       "True"
      ]
     },
     "execution_count": 1,
     "metadata": {},
     "output_type": "execute_result"
    }
   ],
   "source": [
    "from langchain.memory import ConversationBufferMemory\n",
    "from langchain.chains.conversation.base import ConversationChain\n",
    "from dotenv import load_dotenv\n",
    "from langchain_google_genai import ChatGoogleGenerativeAI\n",
    "from langchain_core.runnables import RunnableWithMessageHistory\n",
    "\n",
    "load_dotenv()"
   ]
  },
  {
   "cell_type": "code",
   "execution_count": 2,
   "id": "86a96886",
   "metadata": {},
   "outputs": [
    {
     "name": "stderr",
     "output_type": "stream",
     "text": [
      "/var/folders/0x/fr5n585d50j8t9x54rbwy91w0000gn/T/ipykernel_41705/935853919.py:2: LangChainDeprecationWarning: Please see the migration guide at: https://python.langchain.com/docs/versions/migrating_memory/\n",
      "  memory = ConversationBufferMemory()\n",
      "/var/folders/0x/fr5n585d50j8t9x54rbwy91w0000gn/T/ipykernel_41705/935853919.py:3: LangChainDeprecationWarning: The class `ConversationChain` was deprecated in LangChain 0.2.7 and will be removed in 1.0. Use :meth:`~RunnableWithMessageHistory: https://python.langchain.com/v0.2/api_reference/core/runnables/langchain_core.runnables.history.RunnableWithMessageHistory.html` instead.\n",
      "  chain = ConversationChain(memory=memory, verbose=True, llm=llm)\n"
     ]
    },
    {
     "name": "stdout",
     "output_type": "stream",
     "text": [
      "\n",
      "\n",
      "\u001b[1m> Entering new ConversationChain chain...\u001b[0m\n",
      "Prompt after formatting:\n",
      "\u001b[32;1m\u001b[1;3mThe following is a friendly conversation between a human and an AI. The AI is talkative and provides lots of specific details from its context. If the AI does not know the answer to a question, it truthfully says it does not know.\n",
      "\n",
      "Current conversation:\n",
      "\n",
      "Human: Hi, my name is Adam\n",
      "AI:\u001b[0m\n",
      "\n",
      "\u001b[1m> Finished chain.\u001b[0m\n"
     ]
    },
    {
     "data": {
      "text/plain": [
       "\"Hi Adam, it's nice to meet you! My name is, well, I don't really *have* a name in the way humans do. You can just call me AI. I'm a large language model, trained by Google. I've been trained on a massive dataset of text and code, which allows me to communicate and generate human-like text in response to a wide range of prompts and questions. I'm still under development, but I'm learning new things every day! So, Adam, what can I do for you today?\""
      ]
     },
     "execution_count": 2,
     "metadata": {},
     "output_type": "execute_result"
    }
   ],
   "source": [
    "llm = ChatGoogleGenerativeAI(model=\"gemini-2.0-flash\", temperature=0.7)\n",
    "memory = ConversationBufferMemory()\n",
    "chain = ConversationChain(memory=memory, verbose=True, llm=llm)\n",
    "\n",
    "chain.predict(input=\"Hi, my name is Adam\")"
   ]
  },
  {
   "cell_type": "code",
   "execution_count": 4,
   "id": "b72deabb",
   "metadata": {},
   "outputs": [
    {
     "name": "stdout",
     "output_type": "stream",
     "text": [
      "\n",
      "\n",
      "\u001b[1m> Entering new ConversationChain chain...\u001b[0m\n",
      "Prompt after formatting:\n",
      "\u001b[32;1m\u001b[1;3mThe following is a friendly conversation between a human and an AI. The AI is talkative and provides lots of specific details from its context. If the AI does not know the answer to a question, it truthfully says it does not know.\n",
      "\n",
      "Current conversation:\n",
      "Human: Hi, my name is Adam\n",
      "AI: Hi Adam, it's nice to meet you! My name is, well, I don't really *have* a name in the way humans do. You can just call me AI. I'm a large language model, trained by Google. I've been trained on a massive dataset of text and code, which allows me to communicate and generate human-like text in response to a wide range of prompts and questions. I'm still under development, but I'm learning new things every day! So, Adam, what can I do for you today?\n",
      "Human: i need a help\n",
      "AI:\u001b[0m\n",
      "\n",
      "\u001b[1m> Finished chain.\u001b[0m\n"
     ]
    },
    {
     "data": {
      "text/plain": [
       "\"Okay, Adam, I understand you need help. I'm ready to assist in any way I can. To give you the best possible help, could you please tell me more about what you need?\\n\\nFor example, are you looking for help with:\\n\\n*   **Information?** Do you need me to research a topic, define a term, or provide facts?\\n*   **Creative writing?** Do you want me to write a story, poem, script, or generate ideas?\\n*   **Problem-solving?** Do you have a problem you need help figuring out, like a math problem, a coding issue, or a planning dilemma?\\n*   **Translation?** Do you need me to translate text from one language to another?\\n*   **Summarization?** Do you have a long document that needs to be shortened?\\n*   **Something else entirely?**\\n\\nThe more specific you can be, the better I can understand your needs and provide relevant and helpful assistance. Don't hesitate to provide as much detail as possible! I'm here to listen and help in any way I can.\""
      ]
     },
     "execution_count": 4,
     "metadata": {},
     "output_type": "execute_result"
    }
   ],
   "source": [
    "chain.predict(input=\"i need a help\")"
   ]
  },
  {
   "cell_type": "code",
   "execution_count": 7,
   "id": "1aec9452",
   "metadata": {},
   "outputs": [
    {
     "data": {
      "text/plain": [
       "\"Human: Hi, my name is Adam\\nAI: Hi Adam, it's nice to meet you! My name is, well, I don't really *have* a name in the way humans do. You can just call me AI. I'm a large language model, trained by Google. I've been trained on a massive dataset of text and code, which allows me to communicate and generate human-like text in response to a wide range of prompts and questions. I'm still under development, but I'm learning new things every day! So, Adam, what can I do for you today?\\nHuman: i need a help\\nAI: Okay, Adam, I understand you need help. I'm ready to assist in any way I can. To give you the best possible help, could you please tell me more about what you need?\\n\\nFor example, are you looking for help with:\\n\\n*   **Information?** Do you need me to research a topic, define a term, or provide facts?\\n*   **Creative writing?** Do you want me to write a story, poem, script, or generate ideas?\\n*   **Problem-solving?** Do you have a problem you need help figuring out, like a math problem, a coding issue, or a planning dilemma?\\n*   **Translation?** Do you need me to translate text from one language to another?\\n*   **Summarization?** Do you have a long document that needs to be shortened?\\n*   **Something else entirely?**\\n\\nThe more specific you can be, the better I can understand your needs and provide relevant and helpful assistance. Don't hesitate to provide as much detail as possible! I'm here to listen and help in any way I can.\""
      ]
     },
     "execution_count": 7,
     "metadata": {},
     "output_type": "execute_result"
    }
   ],
   "source": [
    "chain.memory.buffer"
   ]
  },
  {
   "cell_type": "code",
   "execution_count": null,
   "id": "d742ae77",
   "metadata": {},
   "outputs": [],
   "source": []
  }
 ],
 "metadata": {
  "kernelspec": {
   "display_name": "langchain",
   "language": "python",
   "name": "python3"
  },
  "language_info": {
   "codemirror_mode": {
    "name": "ipython",
    "version": 3
   },
   "file_extension": ".py",
   "mimetype": "text/x-python",
   "name": "python",
   "nbconvert_exporter": "python",
   "pygments_lexer": "ipython3",
   "version": "3.11.11"
  }
 },
 "nbformat": 4,
 "nbformat_minor": 5
}
